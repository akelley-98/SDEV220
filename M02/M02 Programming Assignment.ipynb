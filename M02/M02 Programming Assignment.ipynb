{
 "cells": [
  {
   "cell_type": "code",
   "execution_count": null,
   "id": "e252dfd6",
   "metadata": {},
   "outputs": [],
   "source": [
    "import random\n",
    "\n",
    "answer = \"Y\"\n",
    "\n",
    "while answer[0].upper() == \"Y\":\n",
    "    randomNumber = random.randint(1, 10)\n",
    "    userGuess = 0\n",
    "    while userGuess != randomNumber:\n",
    "        userGuess = int(input(\"Enter a number between 1 and 10: \"))\n",
    "        if userGuess > randomNumber:\n",
    "            print(\"Too high, try again.\")\n",
    "        elif userGuess < randomNumber:\n",
    "            print(\"Too low, try again.\")\n",
    "        else:\n",
    "            print(\"Congratulations!! The number is:\", randomNumber)\n",
    "    answer = input(\"Do you want to play again (Y/N)? \")\n",
    "print(\"End of game. Thanks for playing!\")"
   ]
  },
  {
   "cell_type": "code",
   "execution_count": null,
   "id": "f3a12728",
   "metadata": {},
   "outputs": [],
   "source": [
    "small = true\n",
    "green = false\n",
    "\n",
    "if small:\n",
    "    if green:\n",
    "        print(\"pea\")\n",
    "    else:\n",
    "        print(\"cherry\")\n",
    "else:\n",
    "    if green:\n",
    "        print(\"watermelon\")\n",
    "    else:\n",
    "        print(\"pumpkin\")\n",
    "        "
   ]
  },
  {
   "cell_type": "code",
   "execution_count": null,
   "id": "86ed8615",
   "metadata": {},
   "outputs": [],
   "source": [
    "for x in range(3,2,1,0):\n",
    "    print(x)"
   ]
  },
  {
   "cell_type": "code",
   "execution_count": null,
   "id": "f00a93c2",
   "metadata": {},
   "outputs": [],
   "source": [
    "guess_me = 7\n",
    "number = 1\n",
    "\n",
    "while True:\n",
    "    if number < guess_me:\n",
    "        print('too low')\n",
    "    else number == guess_me:\n",
    "        print('found it')\n",
    "        break\n",
    "    else:\n",
    "        print('oops')\n",
    "        break\n",
    "    number += 1"
   ]
  },
  {
   "cell_type": "code",
   "execution_count": null,
   "id": "295b6e0d",
   "metadata": {},
   "outputs": [],
   "source": [
    "guess_me = 5\n",
    "\n",
    "for number in range(10):\n",
    "    if number < guess_me:\n",
    "        print('too low')\n",
    "    elif number == guess_me:\n",
    "        print('found it')\n",
    "        break\n",
    "    else:\n",
    "        print('oops')\n",
    "        break"
   ]
  },
  {
   "cell_type": "code",
   "execution_count": null,
   "id": "4e755720",
   "metadata": {},
   "outputs": [],
   "source": []
  }
 ],
 "metadata": {
  "kernelspec": {
   "display_name": "Python 3 (ipykernel)",
   "language": "python",
   "name": "python3"
  },
  "language_info": {
   "codemirror_mode": {
    "name": "ipython",
    "version": 3
   },
   "file_extension": ".py",
   "mimetype": "text/x-python",
   "name": "python",
   "nbconvert_exporter": "python",
   "pygments_lexer": "ipython3",
   "version": "3.9.12"
  }
 },
 "nbformat": 4,
 "nbformat_minor": 5
}
